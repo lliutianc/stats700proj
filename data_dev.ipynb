{
 "cells": [
  {
   "cell_type": "code",
   "execution_count": 2,
   "metadata": {},
   "outputs": [
    {
     "name": "stderr",
     "output_type": "stream",
     "text": [
      "[nltk_data] Downloading package stopwords to\n",
      "[nltk_data]     /Users/liutianci/nltk_data...\n",
      "[nltk_data]   Package stopwords is already up-to-date!\n"
     ]
    }
   ],
   "source": [
    "import tomotopy as tp\n",
    "import nltk\n",
    "\n",
    "from nltk.corpus import stopwords\n",
    "\n",
    "import re\n"
   ]
  },
  {
   "cell_type": "code",
   "execution_count": 7,
   "metadata": {},
   "outputs": [],
   "source": [
    "porter_stemmer = nltk.PorterStemmer().stem\n",
    "english_stops = set(porter_stemmer(w) for w in stopwords.words('english'))"
   ]
  },
  {
   "cell_type": "code",
   "execution_count": 9,
   "metadata": {},
   "outputs": [
    {
     "data": {
      "text/plain": [
       "171"
      ]
     },
     "execution_count": 9,
     "metadata": {},
     "output_type": "execute_result"
    }
   ],
   "source": [
    "len(english_stops)"
   ]
  },
  {
   "cell_type": "code",
   "execution_count": 10,
   "metadata": {},
   "outputs": [],
   "source": [
    "pat = re.compile('^[a-z]{2,}$')\n",
    "corpus = tp.utils.Corpus(\n",
    "    tokenizer=tp.utils.SimpleTokenizer(porter_stemmer), \n",
    "    stopwords=lambda x: x in english_stops or not pat.match(x)\n",
    ")"
   ]
  },
  {
   "cell_type": "code",
   "execution_count": 12,
   "metadata": {},
   "outputs": [],
   "source": [
    "train_file = 'data/Train.csv'\n",
    "with open(train_file, 'r') as data:\n",
    "        for sentence in data.read().splitlines():\n",
    "            corpus.process(sentence.lower())"
   ]
  },
  {
   "cell_type": "code",
   "execution_count": null,
   "metadata": {},
   "outputs": [],
   "source": [
    "corpus.save('data/train.cps')"
   ]
  },
  {
   "cell_type": "code",
   "execution_count": 3,
   "metadata": {},
   "outputs": [],
   "source": [
    "mdl = tp.LDAModel(k=20)\n",
    "\n",
    "train_file = 'data/Train.csv'\n",
    "with open(train_file, 'r') as data:\n",
    "        for sentence in data.read().splitlines():\n",
    "            mdl.add_doc(sentence.strip().split())"
   ]
  },
  {
   "cell_type": "code",
   "execution_count": 4,
   "metadata": {},
   "outputs": [
    {
     "name": "stdout",
     "output_type": "stream",
     "text": [
      "Iteration: 0\tLog-likelihood: -10.011275750263744\n",
      "Iteration: 10\tLog-likelihood: -9.78873972722844\n",
      "Iteration: 20\tLog-likelihood: -9.64145991037734\n",
      "Iteration: 30\tLog-likelihood: -9.535708676180827\n",
      "Iteration: 40\tLog-likelihood: -9.458079654764937\n",
      "Iteration: 50\tLog-likelihood: -9.397330025600345\n",
      "Iteration: 60\tLog-likelihood: -9.348814286976046\n",
      "Iteration: 70\tLog-likelihood: -9.309214075453175\n",
      "Iteration: 80\tLog-likelihood: -9.277355961880522\n",
      "Iteration: 90\tLog-likelihood: -9.247799271255817\n",
      "Top 10 words of topic #0\n",
      "[('a', 0.041789378970861435), ('his', 0.04057606682181358), ('he', 0.037498533725738525), ('to', 0.024466125294566154), ('the', 0.021779708564281464), ('as', 0.019495824351906776), ('in', 0.017797186970710754), ('and', 0.016955005005002022), ('is', 0.016306953504681587), ('with', 0.010751408524811268)]\n",
      "Top 10 words of topic #1\n",
      "[('you', 0.03903220593929291), ('this', 0.03578142821788788), ('is', 0.029528915882110596), ('to', 0.02874569594860077), ('a', 0.022940736263990402), ('I', 0.021249176934361458), ('movie', 0.020773950964212418), ('that', 0.016208184882998466), ('it', 0.015471886843442917), ('have', 0.011762727051973343)]\n",
      "Top 10 words of topic #2\n",
      "[('the', 0.07758166640996933), ('is', 0.05019264668226242), ('of', 0.04453613609075546), ('and', 0.04066479206085205), ('a', 0.033182282000780106), ('film', 0.024552704766392708), ('in', 0.01859043724834919), ('The', 0.014564314857125282), ('to', 0.01408099103718996), ('that', 0.01297665573656559)]\n",
      "Top 10 words of topic #3\n",
      "[('the', 0.03643583506345749), ('a', 0.03442170098423958), ('and', 0.033588603138923645), ('of', 0.027369769290089607), ('as', 0.014799791388213634), ('by', 0.01206526905298233), ('with', 0.01037457026541233), ('in', 0.008821086958050728), ('to', 0.008213415741920471), ('an', 0.007772364187985659)]\n",
      "Top 10 words of topic #4\n",
      "[('and', 0.047657277435064316), ('of', 0.04665321111679077), ('the', 0.0374520868062973), ('a', 0.03441668674349785), ('to', 0.02677650935947895), ('in', 0.017535308375954628), ('with', 0.016809681430459023), ('is', 0.011820994317531586), ('as', 0.01130419597029686), ('his', 0.011048960499465466)]\n",
      "Top 10 words of topic #5\n",
      "[('the', 0.04848727956414223), ('-', 0.037309251725673676), ('a', 0.03270981088280678), ('of', 0.03233150392770767), ('to', 0.01748587004840374), ('and', 0.010441362857818604), ('in', 0.01026216335594654), ('an', 0.007705592550337315), ('on', 0.007410909980535507), ('THE', 0.007076405454427004)]\n",
      "Top 10 words of topic #6\n",
      "[('the', 0.05226539820432663), ('a', 0.038524433970451355), ('and', 0.02684026025235653), ('of', 0.023884689435362816), ('to', 0.018910575658082962), ('in', 0.017597461119294167), ('with', 0.014992479234933853), ('is', 0.008756245486438274), ('that', 0.00848427414894104), ('like', 0.008324915543198586)]\n",
      "Top 10 words of topic #7\n",
      "[('and', 0.047456078231334686), ('is', 0.026405638083815575), ('a', 0.025433320552110672), ('the', 0.017215507104992867), ('/><br', 0.017077310010790825), ('of', 0.012926449999213219), ('funny', 0.011588895693421364), ('comedy', 0.011381599120795727), ('are', 0.011169367469847202), ('as', 0.010567220859229565)]\n",
      "Top 10 words of topic #8\n",
      "[('the', 0.04183313250541687), ('a', 0.0391959585249424), ('is', 0.02907593734562397), ('of', 0.02642919309437275), ('and', 0.021342389285564423), ('The', 0.0172086451202631), ('to', 0.015342718921601772), ('are', 0.012998349964618683), ('but', 0.010223382152616978), ('this', 0.009729629382491112)]\n",
      "Top 10 words of topic #9\n",
      "[('the', 0.06574416160583496), ('and', 0.03553378954529762), ('of', 0.027070526033639908), ('to', 0.021736593917012215), ('show', 0.021634627133607864), ('on', 0.014830964617431164), ('is', 0.011311344802379608), ('series', 0.010594058781862259), ('they', 0.010530768893659115), ('that', 0.010126417502760887)]\n",
      "Top 10 words of topic #10\n",
      "[('the', 0.07652337849140167), ('of', 0.032488755881786346), ('&', 0.025489727035164833), ('in', 0.022965189069509506), ('a', 0.022277502343058586), ('on', 0.0189114511013031), ('as', 0.011776695027947426), ('to', 0.009039517492055893), ('for', 0.008505654521286488), ('The', 0.008329208008944988)]\n",
      "Top 10 words of topic #11\n",
      "[('the', 0.05924706161022186), ('to', 0.04596211388707161), ('a', 0.0402555912733078), ('his', 0.03612886741757393), ('and', 0.03511722758412361), ('he', 0.031088462099432945), ('is', 0.027944887056946754), ('in', 0.01789969578385353), ('who', 0.011877923272550106), ('of', 0.011174403131008148)]\n",
      "Top 10 words of topic #12\n",
      "[('the', 0.0730312317609787), ('was', 0.05171215534210205), ('movie', 0.0263363029807806), ('and', 0.020375056192278862), ('it', 0.019545840099453926), ('this', 0.017931144684553146), ('to', 0.014942320063710213), ('a', 0.014809280633926392), ('i', 0.013241969980299473), ('of', 0.012569484300911427)]\n",
      "Top 10 words of topic #13\n",
      "[('the', 0.09148859232664108), ('of', 0.044174086302518845), ('in', 0.03172469511628151), ('to', 0.020079148933291435), ('and', 0.018573641777038574), ('a', 0.014227423816919327), ('was', 0.013086372055113316), ('that', 0.011928289197385311), ('as', 0.008317794650793076), ('by', 0.007803469896316528)]\n",
      "Top 10 words of topic #14\n",
      "[('the', 0.08895546942949295), ('to', 0.042399872094392776), ('of', 0.032387666404247284), ('that', 0.021251052618026733), ('have', 0.017999423667788506), ('in', 0.01693669520318508), ('be', 0.01322683971375227), ('not', 0.012654059566557407), ('a', 0.011693550273776054), ('as', 0.011309347115457058)]\n",
      "Top 10 words of topic #15\n",
      "[('her', 0.08232074975967407), ('she', 0.05399661511182785), ('is', 0.03589994087815285), ('a', 0.028453001752495766), ('and', 0.02655637450516224), ('to', 0.022938471287488937), ('in', 0.021850595250725746), ('with', 0.01263943687081337), ('the', 0.01261080801486969), ('She', 0.012535658665001392)]\n",
      "Top 10 words of topic #16\n",
      "[('/><br', 0.09979843348264694), ('the', 0.039184968918561935), ('to', 0.03513762727379799), ('that', 0.01887740194797516), ('a', 0.01696244440972805), ('of', 0.015959065407514572), ('/>The', 0.013776754960417747), ('<br', 0.013296808116137981), ('and', 0.01260104589164257), ('in', 0.011840861290693283)]\n",
      "Top 10 words of topic #17\n",
      "[('the', 0.07548864185810089), ('of', 0.04982199892401695), ('and', 0.0334930457174778), ('to', 0.027961378917098045), ('in', 0.01857934519648552), ('a', 0.01334329228848219), ('that', 0.010571914725005627), ('their', 0.009903090074658394), ('we', 0.009152970276772976), ('are', 0.008340032771229744)]\n",
      "Top 10 words of topic #18\n",
      "[('I', 0.08261246979236603), ('was', 0.034788280725479126), ('it', 0.033261723816394806), ('and', 0.029737744480371475), ('the', 0.027313532307744026), ('a', 0.023306861519813538), ('this', 0.02115033194422722), ('to', 0.019964564591646194), ('that', 0.017094209790229797), ('movie', 0.013622906990349293)]\n",
      "Top 10 words of topic #19\n",
      "[('the', 0.03811243548989296), ('and', 0.03747301921248436), ('of', 0.03236524760723114), ('in', 0.025832051411271095), ('a', 0.024009833112359047), ('as', 0.02204861119389534), ('is', 0.01767377182841301), ('film', 0.010546648874878883), ('was', 0.01031666062772274), ('for', 0.010200402699410915)]\n",
      "<Basic Info>\n",
      "| LDAModel (current version: 0.9.1)\n",
      "| 41098 docs, 9253623 words\n",
      "| Total Vocabs: 397161, Used Vocabs: 397161\n",
      "| Entropy of words: -7.84065\n",
      "| Removed Vocabs: <NA>\n",
      "|\n",
      "<Training Info>\n",
      "| Iterations: 100, Burn-in steps: 0\n",
      "| Optimization Interval: 10\n",
      "| Log-likelihood per word: -9.24780\n",
      "|\n",
      "<Initial Parameters>\n",
      "| tw: TermWeight.ONE\n",
      "| min_cf: 0 (minimum collection frequency of words)\n",
      "| min_df: 0 (minimum document frequency of words)\n",
      "| rm_top: 0 (the number of top words to be removed)\n",
      "| k: 20 (the number of topics between 1 ~ 32767)\n",
      "| alpha: 0.1 (hyperparameter of Dirichlet distribution for document-topic)\n",
      "| eta: 0.01 (hyperparameter of Dirichlet distribution for topic-word)\n",
      "| seed: 4009482917 (random seed)\n",
      "| trained in version 0.9.1\n",
      "|\n",
      "<Parameters>\n",
      "| alpha (Dirichlet prior on the per-document topic distributions)\n",
      "|  [0.36674052 0.9948829  1.1254547  0.2381671  0.4953666  0.3127665\n",
      "|   0.5155797  0.25564182 0.5800489  0.31980202 0.25617042 0.5070542\n",
      "|   0.62530196 0.2872135  0.61138177 0.26767072 0.6663176  0.3017026\n",
      "|   1.0673586  0.42588666]\n",
      "| eta (Dirichlet prior on the per-topic word distribution)\n",
      "|  0.01\n",
      "|\n",
      "<Topics>\n",
      "| #0 (346309) : a his he to the\n",
      "| #1 (827214) : you this is to a\n",
      "| #2 (1049151) : the is of and a\n",
      "| #3 (200086) : the a and of as\n",
      "| #4 (470101) : and of the a to\n",
      "| #5 (247146) : the - a of to\n",
      "| #6 (466665) : the a and of to\n",
      "| #7 (198637) : and is a the /><br\n",
      "| #8 (518557) : the a is of and\n",
      "| #9 (280434) : the and of to show\n",
      "| #10 (217059) : the of & in a\n",
      "| #11 (557491) : the to a his and\n",
      "| #12 (544739) : the was movie and it\n",
      "| #13 (289617) : the of in to and\n",
      "| #14 (563436) : the to of that have\n",
      "| #15 (275472) : her she is a and\n",
      "| #16 (616930) : /><br the to that a\n",
      "| #17 (266652) : the of and to in\n",
      "| #18 (926227) : I was it and the\n",
      "| #19 (391700) : the and of in a\n",
      "|\n",
      "\n"
     ]
    }
   ],
   "source": [
    "for i in range(0, 100, 10):\n",
    "    mdl.train(10)\n",
    "    print(f'Iteration: {i}\\tLog-likelihood: {}'.format(i, mdl.ll_per_word))\n",
    "\n",
    "for k in range(mdl.k):\n",
    "    print('Top 10 words of topic #{}'.format(k))\n",
    "    print(mdl.get_topic_words(k, top_n=10))\n",
    "\n",
    "mdl.summary()"
   ]
  },
  {
   "cell_type": "code",
   "execution_count": null,
   "metadata": {},
   "outputs": [],
   "source": []
  }
 ],
 "metadata": {
  "kernelspec": {
   "display_name": "Python 3",
   "language": "python",
   "name": "python3"
  },
  "language_info": {
   "codemirror_mode": {
    "name": "ipython",
    "version": 3
   },
   "file_extension": ".py",
   "mimetype": "text/x-python",
   "name": "python",
   "nbconvert_exporter": "python",
   "pygments_lexer": "ipython3",
   "version": "3.7.7"
  }
 },
 "nbformat": 4,
 "nbformat_minor": 4
}
