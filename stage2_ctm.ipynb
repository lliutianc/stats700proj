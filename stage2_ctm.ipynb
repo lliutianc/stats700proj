{
 "cells": [
  {
   "cell_type": "code",
   "execution_count": 1,
   "metadata": {},
   "outputs": [],
   "source": [
    "from data import * \n",
    "from lda_trial import *\n",
    "\n",
    "from sklearn.linear_model import SGDClassifier\n",
    "from sklearn.svm import LinearSVC\n",
    "from sklearn.metrics import accuracy_score"
   ]
  },
  {
   "cell_type": "code",
   "execution_count": 2,
   "metadata": {},
   "outputs": [],
   "source": [
    "trainset = IMDBDataset('train', data_limit=20_000)\n",
    "validset = IMDBDataset('valid')"
   ]
  },
  {
   "cell_type": "code",
   "execution_count": null,
   "metadata": {},
   "outputs": [
    {
     "name": "stdout",
     "output_type": "stream",
     "text": [
      "2.\n",
      "Current loss: -7.20042\n",
      "Current loss: -7.15585\n",
      "Current loss: -7.12708\n",
      "Current loss: -7.10129\n",
      "Current loss: -7.08314\n",
      "Trial iterations: 480.\n",
      "Train: 51.55500%\n",
      "Test: 52.62000%\n",
      "----------------------------------------------------------------------------------------------------\n",
      "3.\n",
      "Current loss: -6.99583\n",
      "Current loss: -6.92250\n",
      "Current loss: -6.86892\n",
      "Current loss: -6.82440\n",
      "Current loss: -6.77641\n",
      "Trial iterations: 720.\n",
      "Train: 54.68000%\n",
      "Test: 54.42000%\n",
      "----------------------------------------------------------------------------------------------------\n",
      "5.\n",
      "Current loss: -6.66374\n",
      "Current loss: -6.53920\n",
      "Current loss: -6.45359\n",
      "Current loss: -6.39138\n",
      "Current loss: -6.33816\n",
      "Trial iterations: 1200.\n",
      "Train: 56.89000%\n",
      "Test: 57.14000%\n",
      "----------------------------------------------------------------------------------------------------\n",
      "10.\n",
      "Current loss: -6.05692\n"
     ]
    }
   ],
   "source": [
    "n = 20000\n",
    "\n",
    "for k in [2, 3, 5, 10, 20, 50, 100]:\n",
    "    print(f'{k}.')\n",
    "    trained_model, final_metric = tp_one_trial(trainset, 'ctm', k, n, \n",
    "                                              3, 5,  # args.burn_in,\n",
    "                                              max_iter=20, stop_increase=5, metric='ll')\n",
    "\n",
    "    lda_x, lda_y = load_LDA_data_batch(trained_model, trainset)\n",
    "    model = LinearSVC()\n",
    "    model.fit(lda_x, lda_y)\n",
    "\n",
    "    prediction = model.predict(lda_x)\n",
    "    ground_truth = lda_y\n",
    "    print(f'Train: {100*accuracy_score(prediction, ground_truth):6.5f}%')\n",
    "    lda_x, lda_y = load_LDA_data_batch(trained_model, validset)\n",
    "\n",
    "    prediction = model.predict(lda_x)\n",
    "    ground_truth = lda_y\n",
    "    print(f'Test: {100*accuracy_score(prediction, ground_truth):6.5f}%')\n",
    "    print('-' * 100)"
   ]
  },
  {
   "cell_type": "code",
   "execution_count": null,
   "metadata": {},
   "outputs": [],
   "source": []
  }
 ],
 "metadata": {
  "kernelspec": {
   "display_name": "Python 3",
   "language": "python",
   "name": "python3"
  },
  "language_info": {
   "codemirror_mode": {
    "name": "ipython",
    "version": 3
   },
   "file_extension": ".py",
   "mimetype": "text/x-python",
   "name": "python",
   "nbconvert_exporter": "python",
   "pygments_lexer": "ipython3",
   "version": "3.7.7"
  }
 },
 "nbformat": 4,
 "nbformat_minor": 4
}
