{
 "cells": [
  {
   "cell_type": "code",
   "execution_count": 1,
   "metadata": {},
   "outputs": [],
   "source": [
    "from data import * \n",
    "from lda_trial import *\n",
    "\n",
    "from sklearn.linear_model import SGDClassifier\n",
    "from sklearn.svm import LinearSVC\n",
    "from sklearn.metrics import accuracy_score"
   ]
  },
  {
   "cell_type": "code",
   "execution_count": 2,
   "metadata": {},
   "outputs": [],
   "source": [
    "trainset = IMDBDataset('train', data_limit=20_000)\n",
    "validset = IMDBDataset('valid')"
   ]
  },
  {
   "cell_type": "code",
   "execution_count": 3,
   "metadata": {},
   "outputs": [],
   "source": [
    "# CTM"
   ]
  },
  {
   "cell_type": "code",
   "execution_count": null,
   "metadata": {},
   "outputs": [
    {
     "name": "stdout",
     "output_type": "stream",
     "text": [
      "2.\n",
      "Current loss: -7.72900\n",
      "Current loss: -7.72287\n",
      "Current loss: -7.72432\n",
      "Current loss: -7.72485\n",
      "Current loss: -7.72473\n",
      "Trial iterations: 480.\n",
      "Train: 63.51500%\n",
      "Test: 63.12000%\n",
      "----------------------------------------------------------------------------------------------------\n",
      "3.\n",
      "Current loss: -7.92690\n",
      "Current loss: -7.89232\n",
      "Current loss: -7.88065\n",
      "Current loss: -7.87405\n",
      "Current loss: -7.86990\n",
      "Trial iterations: 720.\n",
      "Train: 63.45000%\n",
      "Test: 62.94000%\n",
      "----------------------------------------------------------------------------------------------------\n",
      "5.\n",
      "Current loss: -8.11444\n",
      "Current loss: -8.08893\n",
      "Current loss: -8.07928\n",
      "Current loss: -8.07553\n",
      "Current loss: -8.06758\n",
      "Trial iterations: 1200.\n",
      "Train: 71.23500%\n",
      "Test: 70.20000%\n",
      "----------------------------------------------------------------------------------------------------\n",
      "10.\n",
      "Current loss: -8.33141\n",
      "Current loss: -8.27409\n",
      "Current loss: -8.25274\n",
      "Current loss: -8.24861\n",
      "Current loss: -8.24607\n",
      "Trial iterations: 2400.\n",
      "Train: 72.42000%\n",
      "Test: 72.36000%\n",
      "----------------------------------------------------------------------------------------------------\n",
      "20.\n",
      "Current loss: -8.44090\n",
      "Current loss: -8.38371\n",
      "Current loss: -8.36568\n",
      "Current loss: -8.35941\n",
      "Current loss: -8.35998\n",
      "Trial iterations: 4800.\n",
      "Train: 80.22000%\n",
      "Test: 79.24000%\n",
      "----------------------------------------------------------------------------------------------------\n",
      "50.\n",
      "Current loss: -8.58455\n"
     ]
    }
   ],
   "source": [
    "n = 20000\n",
    "\n",
    "for k in [2, 3, 5, 10, 20, 50, 100]:\n",
    "    print(f'{k}.')\n",
    "    trained_model, final_metric = tp_one_trial(trainset, 'lda', k, n, \n",
    "                                              3, 5,  # args.burn_in,\n",
    "                                              max_iter=20, stop_increase=5, metric='ll')\n",
    "\n",
    "    lda_x, lda_y = load_LDA_data_batch(trained_model, trainset)\n",
    "    model = LinearSVC()\n",
    "    model.fit(lda_x, lda_y)\n",
    "\n",
    "    prediction = model.predict(lda_x)\n",
    "    ground_truth = lda_y\n",
    "    print(f'Train: {100*accuracy_score(prediction, ground_truth):6.5f}%')\n",
    "    lda_x, lda_y = load_LDA_data_batch(trained_model, validset)\n",
    "\n",
    "    prediction = model.predict(lda_x)\n",
    "    ground_truth = lda_y\n",
    "    print(f'Test: {100*accuracy_score(prediction, ground_truth):6.5f}%')\n",
    "    print('-' * 100)"
   ]
  }
 ],
 "metadata": {
  "kernelspec": {
   "display_name": "Python 3",
   "language": "python",
   "name": "python3"
  },
  "language_info": {
   "codemirror_mode": {
    "name": "ipython",
    "version": 3
   },
   "file_extension": ".py",
   "mimetype": "text/x-python",
   "name": "python",
   "nbconvert_exporter": "python",
   "pygments_lexer": "ipython3",
   "version": "3.7.7"
  }
 },
 "nbformat": 4,
 "nbformat_minor": 4
}
