{
 "cells": [
  {
   "cell_type": "code",
   "execution_count": 1,
   "metadata": {},
   "outputs": [],
   "source": [
    "from data import * \n",
    "from lda_trial import *\n",
    "\n",
    "from sklearn.linear_model import SGDClassifier\n",
    "from sklearn.svm import LinearSVC\n",
    "from sklearn.metrics import accuracy_score"
   ]
  },
  {
   "cell_type": "code",
   "execution_count": 2,
   "metadata": {},
   "outputs": [],
   "source": [
    "trainset = IMDBDataset('train', data_limit=20_000)\n",
    "validset = IMDBDataset('valid')"
   ]
  },
  {
   "cell_type": "code",
   "execution_count": 4,
   "metadata": {},
   "outputs": [
    {
     "data": {
      "text/plain": [
       "[0.6354, 0.73455, 0.78365, 0.8303, 0.82765]"
      ]
     },
     "execution_count": 4,
     "metadata": {},
     "output_type": "execute_result"
    }
   ],
   "source": [
    "train_accu"
   ]
  },
  {
   "cell_type": "code",
   "execution_count": 4,
   "metadata": {},
   "outputs": [],
   "source": [
    "lens = [len(x) for x in trainset.x]"
   ]
  },
  {
   "cell_type": "code",
   "execution_count": 7,
   "metadata": {},
   "outputs": [
    {
     "data": {
      "text/plain": [
       "228.51995"
      ]
     },
     "execution_count": 7,
     "metadata": {},
     "output_type": "execute_result"
    }
   ],
   "source": [
    "np.array(lens).mean()"
   ]
  },
  {
   "cell_type": "code",
   "execution_count": null,
   "metadata": {},
   "outputs": [
    {
     "name": "stdout",
     "output_type": "stream",
     "text": [
      "2.\n",
      "Current loss: -7.82376\n",
      "Current loss: -7.82072\n",
      "Current loss: -7.82119\n",
      "Current loss: -7.82184\n",
      "Current loss: -7.82229\n",
      "Trial iterations: 1200.\n",
      "Train: 63.89000%\n",
      "Test: 63.22000%\n",
      "----------------------------------------------------------------------------------------------------\n",
      "5.\n",
      "Current loss: -8.16663\n",
      "Current loss: -8.14940\n",
      "Current loss: -8.14385\n",
      "Current loss: -8.14081\n",
      "Current loss: -8.13990\n",
      "Trial iterations: 1200.\n",
      "Train: 72.03500%\n",
      "Test: 70.38000%\n",
      "----------------------------------------------------------------------------------------------------\n",
      "10.\n",
      "Current loss: -8.44223\n",
      "Current loss: -8.42211\n",
      "Current loss: -8.39072\n",
      "Current loss: -8.36640\n",
      "Current loss: -8.35546\n",
      "Trial iterations: 1200.\n",
      "Train: 83.57000%\n",
      "Test: 81.60000%\n",
      "----------------------------------------------------------------------------------------------------\n",
      "20.\n",
      "Current loss: -8.60145\n",
      "Current loss: -8.53432\n",
      "Current loss: -8.50797\n",
      "Current loss: -8.49608\n",
      "Current loss: -8.49010\n",
      "Trial iterations: 1200.\n",
      "Train: 82.94000%\n",
      "Test: 81.48000%\n",
      "----------------------------------------------------------------------------------------------------\n",
      "50.\n",
      "Current loss: -8.77791\n",
      "Current loss: -8.67287\n",
      "Current loss: -8.62887\n",
      "Current loss: -8.60485\n",
      "Current loss: -8.59088\n",
      "Trial iterations: 1200.\n",
      "Train: 83.90000%\n",
      "Test: 82.48000%\n",
      "----------------------------------------------------------------------------------------------------\n",
      "2.\n"
     ]
    }
   ],
   "source": [
    "n = 20000\n",
    "\n",
    "ks = [2, 5, 10, 20, 50]\n",
    "\n",
    "train_accu = [0 for _ in range(len(ks))]\n",
    "test_accu = [0 for _ in range(len(ks))]\n",
    "times = []\n",
    "\n",
    "for _ in range(3):\n",
    "    for idx, k in enumerate(ks):\n",
    "        print(f'{k}.')\n",
    "        start = time.time()\n",
    "        trained_model, final_metric = tp_one_trial(trainset, 'slda', k, n, \n",
    "                                                  3, 5,  # args.burn_in,\n",
    "                                                  max_iter=1000, stop_increase=5, metric='ll')\n",
    "        times.append(time.time() - start)\n",
    "        lda_x, lda_y = load_LDA_data_batch(trained_model, trainset)\n",
    "        model = LinearSVC()\n",
    "        model.fit(lda_x, lda_y)\n",
    "\n",
    "        prediction = model.predict(lda_x)\n",
    "        ground_truth = lda_y\n",
    "        print(f'Train: {100*accuracy_score(prediction, ground_truth):6.5f}%')\n",
    "        train_accu[idx] += accuracy_score(prediction, ground_truth)\n",
    "\n",
    "        lda_x, lda_y = load_LDA_data_batch(trained_model, validset)\n",
    "        prediction = model.predict(lda_x)\n",
    "        ground_truth = lda_y\n",
    "        print(f'Test: {100*accuracy_score(prediction, ground_truth):6.5f}%')\n",
    "        test_accu[idx] += accuracy_score(prediction, ground_truth)\n",
    "        print('-' * 100)"
   ]
  },
  {
   "cell_type": "code",
   "execution_count": null,
   "metadata": {},
   "outputs": [
    {
     "name": "stdout",
     "output_type": "stream",
     "text": [
      "2.\n",
      "Current loss: -7.73810\n",
      "Current loss: -7.73126\n",
      "Current loss: -7.73160\n",
      "Current loss: -7.73119\n",
      "Current loss: -7.73173\n",
      "Trial iterations: 480.\n",
      "Train: 63.41000%\n",
      "Test: 63.40000%\n",
      "----------------------------------------------------------------------------------------------------\n",
      "3.\n",
      "Current loss: -7.89894\n",
      "Current loss: -7.87217\n",
      "Current loss: -7.86673\n",
      "Current loss: -7.86608\n",
      "Current loss: -7.86664\n",
      "Trial iterations: 720.\n",
      "Train: 64.31000%\n",
      "Test: 63.76000%\n",
      "----------------------------------------------------------------------------------------------------\n",
      "5.\n",
      "Current loss: -8.14503\n",
      "Current loss: -8.10429\n",
      "Current loss: -8.08047\n",
      "Current loss: -8.07234\n",
      "Current loss: -8.07163\n",
      "Trial iterations: 1200.\n",
      "Train: 70.66500%\n",
      "Test: 69.84000%\n",
      "----------------------------------------------------------------------------------------------------\n",
      "10.\n",
      "Current loss: -8.35358\n",
      "Current loss: -8.31256\n",
      "Current loss: -8.29862\n",
      "Current loss: -8.29505\n",
      "Current loss: -8.29460\n",
      "Trial iterations: 2400.\n",
      "Train: 81.79000%\n",
      "Test: 80.28000%\n",
      "----------------------------------------------------------------------------------------------------\n",
      "20.\n",
      "Current loss: -8.46013\n",
      "Current loss: -8.41075\n",
      "Current loss: -8.39065\n",
      "Current loss: -8.38362\n",
      "Current loss: -8.38054\n",
      "Trial iterations: 4800.\n",
      "Train: 82.00000%\n",
      "Test: 80.20000%\n",
      "----------------------------------------------------------------------------------------------------\n",
      "50.\n"
     ]
    }
   ],
   "source": [
    "n = 20000\n",
    "train_accu = []\n",
    "test_accu = []\n",
    "for k in [2, 3, 5, 10, 20, 50, 100]:\n",
    "    print(f'{k}.')\n",
    "    trained_model, final_metric = tp_one_trial(trainset, 'slda', k, n, \n",
    "                                              3, 5,  # args.burn_in,\n",
    "                                              max_iter=20, stop_increase=5, metric='ll')\n",
    "\n",
    "    lda_x, lda_y = load_LDA_data_batch(trained_model, trainset)\n",
    "    model = LinearSVC()\n",
    "    model.fit(lda_x, lda_y)\n",
    "\n",
    "    prediction = model.predict(lda_x)\n",
    "    ground_truth = lda_y\n",
    "    print(f'Train: {100*accuracy_score(prediction, ground_truth):6.5f}%')\n",
    "    train_accu.append(accuracy_score(prediction, ground_truth))\n",
    "    lda_x, lda_y = load_LDA_data_batch(trained_model, validset)\n",
    "\n",
    "    prediction = model.predict(lda_x)\n",
    "    ground_truth = lda_y\n",
    "    print(f'Test: {100*accuracy_score(prediction, ground_truth):6.5f}%')\n",
    "    train_accu.append(accuracy_score(prediction, ground_truth))\n",
    "    print('-' * 100)\n"
   ]
  },
  {
   "cell_type": "code",
   "execution_count": null,
   "metadata": {},
   "outputs": [],
   "source": []
  }
 ],
 "metadata": {
  "kernelspec": {
   "display_name": "Python 3",
   "language": "python",
   "name": "python3"
  },
  "language_info": {
   "codemirror_mode": {
    "name": "ipython",
    "version": 3
   },
   "file_extension": ".py",
   "mimetype": "text/x-python",
   "name": "python",
   "nbconvert_exporter": "python",
   "pygments_lexer": "ipython3",
   "version": "3.7.7"
  }
 },
 "nbformat": 4,
 "nbformat_minor": 4
}
