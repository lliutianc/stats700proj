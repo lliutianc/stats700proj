{
 "cells": [
  {
   "cell_type": "code",
   "execution_count": 2,
   "metadata": {},
   "outputs": [],
   "source": [
    "from data import * \n",
    "from lda_trial import *\n",
    "\n",
    "from sklearn.linear_model import SGDClassifier\n",
    "from sklearn.svm import LinearSVC\n",
    "from sklearn.metrics import accuracy_score"
   ]
  },
  {
   "cell_type": "code",
   "execution_count": 3,
   "metadata": {},
   "outputs": [],
   "source": [
    "trainset = IMDBDataset('train', data_limit=20_000)\n",
    "validset = IMDBDataset('valid')"
   ]
  },
  {
   "cell_type": "code",
   "execution_count": 4,
   "metadata": {},
   "outputs": [],
   "source": [
    "# CTM"
   ]
  },
  {
   "cell_type": "code",
   "execution_count": null,
   "metadata": {},
   "outputs": [
    {
     "name": "stdout",
     "output_type": "stream",
     "text": [
      "2.\n",
      "Current loss: -7.73810\n",
      "Current loss: -7.73126\n",
      "Current loss: -7.73160\n",
      "Current loss: -7.73119\n",
      "Current loss: -7.73173\n",
      "Trial iterations: 480.\n",
      "Train: 63.41000%\n",
      "Test: 63.40000%\n",
      "----------------------------------------------------------------------------------------------------\n",
      "3.\n",
      "Current loss: -7.89894\n",
      "Current loss: -7.87217\n",
      "Current loss: -7.86673\n",
      "Current loss: -7.86608\n",
      "Current loss: -7.86664\n",
      "Trial iterations: 720.\n",
      "Train: 64.31000%\n",
      "Test: 63.76000%\n",
      "----------------------------------------------------------------------------------------------------\n",
      "5.\n",
      "Current loss: -8.14503\n",
      "Current loss: -8.10429\n",
      "Current loss: -8.08047\n",
      "Current loss: -8.07234\n",
      "Current loss: -8.07163\n",
      "Trial iterations: 1200.\n",
      "Train: 70.66500%\n",
      "Test: 69.84000%\n",
      "----------------------------------------------------------------------------------------------------\n",
      "10.\n",
      "Current loss: -8.35358\n",
      "Current loss: -8.31256\n",
      "Current loss: -8.29862\n",
      "Current loss: -8.29505\n",
      "Current loss: -8.29460\n",
      "Trial iterations: 2400.\n",
      "Train: 81.79000%\n",
      "Test: 80.28000%\n",
      "----------------------------------------------------------------------------------------------------\n",
      "20.\n",
      "Current loss: -8.46013\n"
     ]
    }
   ],
   "source": [
    "n = 20000\n",
    "train_accu = []\n",
    "test_accu = []\n",
    "for k in [2, 3, 5, 10, 20, 50, 100]:\n",
    "    print(f'{k}.')\n",
    "    trained_model, final_metric = tp_one_trial(trainset, 'slda', k, n, \n",
    "                                              3, 5,  # args.burn_in,\n",
    "                                              max_iter=20, stop_increase=5, metric='ll')\n",
    "\n",
    "    lda_x, lda_y = load_LDA_data_batch(trained_model, trainset)\n",
    "    model = LinearSVC()\n",
    "    model.fit(lda_x, lda_y)\n",
    "\n",
    "    prediction = model.predict(lda_x)\n",
    "    ground_truth = lda_y\n",
    "    print(f'Train: {100*accuracy_score(prediction, ground_truth):6.5f}%')\n",
    "    train_accu.append(accuracy_score(prediction, ground_truth))\n",
    "    lda_x, lda_y = load_LDA_data_batch(trained_model, validset)\n",
    "\n",
    "    prediction = model.predict(lda_x)\n",
    "    ground_truth = lda_y\n",
    "    print(f'Test: {100*accuracy_score(prediction, ground_truth):6.5f}%')\n",
    "    train_accu.append(accuracy_score(prediction, ground_truth))\n",
    "    print('-' * 100)\n"
   ]
  },
  {
   "cell_type": "code",
   "execution_count": null,
   "metadata": {},
   "outputs": [],
   "source": []
  }
 ],
 "metadata": {
  "kernelspec": {
   "display_name": "Python 3",
   "language": "python",
   "name": "python3"
  },
  "language_info": {
   "codemirror_mode": {
    "name": "ipython",
    "version": 3
   },
   "file_extension": ".py",
   "mimetype": "text/x-python",
   "name": "python",
   "nbconvert_exporter": "python",
   "pygments_lexer": "ipython3",
   "version": "3.7.7"
  }
 },
 "nbformat": 4,
 "nbformat_minor": 4
}
